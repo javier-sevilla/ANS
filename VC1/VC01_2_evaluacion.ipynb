{
 "cells": [
  {
   "cell_type": "markdown",
   "metadata": {},
   "source": [
    "<center><h1>VC01: Medidas de evaluación de algoritmos de agrupamiento</h1></center>\n",
    "\n",
    "Tal y como se ha visto en la parte teórica de la asignatura, un agrupamiento se puede evaluar de manera intrínseca o extrínseca dependiendo de si está disponible o no la verdad básica (ground truth).\n",
    "\n",
    "Para empezar, cargamos las librerías que vamos a necesitar:\n"
   ]
  },
  {
   "cell_type": "code",
   "execution_count": null,
   "metadata": {},
   "outputs": [],
   "source": [
    "import numpy as np\n",
    "import pandas as pd\n",
    "import itertools as it\n",
    "import matplotlib.pyplot as plt\n",
    "from mpl_toolkits.mplot3d import Axes3D\n",
    "from sklearn.cluster import KMeans\n",
    "from sklearn.datasets import make_blobs"
   ]
  },
  {
   "cell_type": "code",
   "execution_count": null,
   "metadata": {},
   "outputs": [],
   "source": [
    "np.random.seed(19) # Fijamos una semilla para asegurar la reproducibilidad de la práctica\n",
    "\n",
    "data_file_url = 'https://raw.githubusercontent.com/javier-sevilla/ANS/master/datasets/sinteticos/dataset_dos_guassianas.csv'\n",
    "D = np.array(pd.read_csv(data_file_url))\n",
    "D = D[ np.random.choice(np.arange(D.shape[0]), D.shape[0], replace=False) ,:]\n",
    "Dx = D[:,0:2]\n",
    "Dy = D[:,2]\n",
    "\n",
    "fig, ax = plt.subplots()\n",
    "ax.scatter(Dx[:,0],Dx[:,1], c=Dy)\n",
    "\n",
    "# Al estar generado de esta forma sabemos de antemano los grupos que se forman, por eso podemos usar medidas extrínsecas.\n"
   ]
  },
  {
   "cell_type": "markdown",
   "metadata": {},
   "source": [
    "\n",
    "Realizamos un clustering de prueba que nos permitirá explorar el uso de las diferentes medidas de evaluación. En la siguiente sesión estudiaremos en detalle el algoritmo usado (Kmeans).\n"
   ]
  },
  {
   "cell_type": "code",
   "execution_count": null,
   "metadata": {},
   "outputs": [],
   "source": [
    "# Inicializar el método\n",
    "agrup = KMeans(n_clusters=4)\n",
    "# Aprender el agrupamiento\n",
    "agrup = agrup.fit(Dx)\n",
    "# Obtener la pertenencia de las instancias a los clústeres\n",
    "Dyp = agrup.predict(Dx)\n",
    "# Obtener los centroides de los clústeres\n",
    "cDx = agrup.cluster_centers_"
   ]
  },
  {
   "cell_type": "markdown",
   "metadata": {},
   "source": [
    "\n",
    "<h2>Medidas de evaluación extrínseca</h2>\n",
    "\n",
    "Empezamos por obtener la matriz de confusión, que nos dice el número de coincidencias (intersección; número de ejemplos que aparecen en cierto clúster real y cierto clúster obtenido). Esta matriz nos permitirá construir las diferentes métricas de manera sencilla:\n"
   ]
  },
  {
   "cell_type": "code",
   "execution_count": null,
   "metadata": {},
   "outputs": [],
   "source": [
    "## La matriz de confusión viene a decir para todos los pares de cluster\n",
    "## [i,j] = El número de elementos en común entre el cluster real i y el predicho j \n",
    "## Vamos, la interesección entre los reales y los predichos será una matriz (4x2)\n",
    "## Respuesta para los datos es\n",
    "##[[  1 303   0  22]\n",
    "## [ 84   0  91  92]]\n",
    "\n",
    "def matriz_confusion(cat_real, cat_pred):\n",
    "    cats = np.unique(cat_real)\n",
    "    clusts = np.unique(cat_pred)\n",
    "    mat = np.array([[np.sum(np.logical_and(cat_real==cats[i], #### TU CODIGO AQUI ####\n",
    "                                          )) \n",
    "                     for j in np.arange(clusts.size)] \n",
    "                    for i in np.arange(cats.size)])\n",
    "    return(mat)\n",
    "\n",
    "mC = matriz_confusion(Dy,Dyp)\n",
    "print(mC)"
   ]
  },
  {
   "cell_type": "markdown",
   "metadata": {},
   "source": [
    "\n",
    "Una vez obtenida la matriz de confusión, podemos definir diferentes métricas. Por ejemplo, el error, la precisión, el recall y la pureza se definen como...\n"
   ]
  },
  {
   "cell_type": "code",
   "execution_count": null,
   "metadata": {},
   "outputs": [],
   "source": [
    "## Tiene en cuenta la diferencia máxima entre el resultado real (l) y el predicho (k)\n",
    "def medida_error(mat):\n",
    "    assign = np.sum([np.max(mat[l,:]) for l in np.arange(mat.shape[0])])\n",
    "    return 1 - assign / float(np.sum(mat))\n",
    "\n",
    "## La precisión es la fracción de la suma de las instancias en común (las relevantes) \n",
    "## y las obtenidas (o predichas)\n",
    "def medida_precision(mat, l, k):\n",
    "    return mat[l,k]/#### TU CODIGO AQUI ####\n",
    "\n",
    "## La recall o recuperació es la fracción de la suma de las instancias relevantes\n",
    "## sobre el total de las relevantes (reales)\n",
    "def medida_recall(mat, l, k):\n",
    "    return mat[l,k]/#### TU CODIGO AQUI ####\n",
    "\n",
    "## Quedarse con la presición más alta para todos los cluster predichos, ponderada por los totales\n",
    "def medida_pureza(mat):\n",
    "    totales = np.sum(mat,0)/float(np.sum(mat)) \n",
    "    return np.sum([#### TU CODIGO AQUI ####\n",
    "                   * np.max(mat[:,k]/float(np.sum(mat[:,k]))) for k in np.arange(mat.shape[1])])\n",
    "\n",
    "print('El valor del error cometido es = ', medida_error(mC))\n",
    "print('La pureza del agrupamiento obtenido es = ', medida_pureza(mC))\n",
    "\n",
    "## Soluciones\n",
    "## El valor del error cometido es =  0.33389544688026984\n",
    "## La pureza del agrupamiento obtenido es =  0.9612141652613829"
   ]
  },
  {
   "cell_type": "markdown",
   "metadata": {},
   "source": [
    "\n",
    "Por su parte, la medida F1 es una combinación de la precisión y el recall:\n"
   ]
  },
  {
   "cell_type": "code",
   "execution_count": null,
   "metadata": {},
   "outputs": [],
   "source": [
    "# Vista en AS\n",
    "# Se busca la máxima correspondencia, ponderando \n",
    "\n",
    "def medida_f1_especifica(mat, l, k):\n",
    "    prec = medida_precision(mat, l, k)\n",
    "    rec = medida_recall(mat, l, k)\n",
    "    if (prec+rec)==0:\n",
    "        return 0\n",
    "    else:\n",
    "        return #### TU CODIGO AQUI ####\n",
    "\n",
    "def medida_f1(mat):\n",
    "    totales = np.sum(mat,1)/float(np.sum(mat))\n",
    "    assign = np.sum([totales[l] * np.max([medida_f1_especifica(mat, l, k) \n",
    "                                          for k in np.arange(mat.shape[1])]) \n",
    "                     for l in np.arange(mat.shape[0])])\n",
    "    return assign\n",
    "\n",
    "print('El valor F1 es = ', medida_f1(mC))"
   ]
  },
  {
   "cell_type": "markdown",
   "metadata": {},
   "source": [
    "\n",
    "La entropía es una medida que expresa el grado de (des)organización:\n"
   ]
  },
  {
   "cell_type": "code",
   "execution_count": null,
   "metadata": {},
   "outputs": [],
   "source": [
    "def medida_entropia(mat):\n",
    "    totales = np.sum(mat,0)/float(np.sum(mat))\n",
    "    relMat = mat/np.sum(mat,0)\n",
    "    logRelMat = relMat.copy()\n",
    "    logRelMat[logRelMat==0]=0.0001 # Evita el logaritmo de 0. Inofensivo pues luego desaparece al multiplicar por 0\n",
    "    logRelMat = #### TU CODIGO AQUI ####\n",
    "    return -np.sum([totales[k] * np.sum([relMat[l,k]*logRelMat[l,k] \n",
    "                                         for l in np.arange(mat.shape[0])]) \n",
    "                    for k in np.arange(mat.shape[1])])\n",
    "  \n",
    "print('La entropía es = ', medida_entropia(mC))"
   ]
  },
  {
   "cell_type": "markdown",
   "metadata": {},
   "source": [
    "\n",
    "Y la información mutua expresa cómo una variable (agrupamiento) puede explicar otra:\n"
   ]
  },
  {
   "cell_type": "code",
   "execution_count": null,
   "metadata": {},
   "outputs": [],
   "source": [
    "def medida_informacion_mutua(mat):\n",
    "    relMat = mat/float(np.sum(mat))\n",
    "    logRelMat = mat.copy()\n",
    "    logRelMat = logRelMat/np.sum(mat,0,keepdims=True)\n",
    "    logRelMat = logRelMat/np.sum(mat,1,keepdims=True)\n",
    "    logRelMat[logRelMat==0]=0.000001 # Evita el logaritmo de 0. Inofensivo pues luego desaparece al multiplicar por 0\n",
    "    logRelMat = #### TU CODIGO AQUI ####\n",
    "    return np.sum([np.sum([relMat[l,k]*logRelMat[l,k]\n",
    "                           for l in np.arange(mat.shape[0])])\n",
    "                   for k in np.arange(mat.shape[1])])\n",
    "  \n",
    "print('La información mutua es = ', medida_informacion_mutua(mC), \"(** ESTE ES EL VALOR A INTRODUCIR EN EL CAMPUS**)\")"
   ]
  },
  {
   "cell_type": "markdown",
   "metadata": {},
   "source": [
    "<hr>\n",
    "<h2>Medidas de evaluación intrínseca</h2>\n",
    "\n",
    "En este caso se asume que no se conoce el agrupamiento real. Entonces, sólo es posible realizar la evaluación en base a las características del agrupamiento devuelto.\n",
    "\n",
    "En el caso de la medida RMSSTD, tenemos que:\n"
   ]
  },
  {
   "cell_type": "code",
   "execution_count": null,
   "metadata": {},
   "outputs": [],
   "source": [
    "def medida_RMSSTD(X, Xyp, cXs):\n",
    "    labels = np.unique(Xyp)\n",
    "    num = np.sum([ np.sum(np.sum(X[Xyp==labels[k],:]-cXs[labels[k],:],1)**2) for k in np.arange(labels.size)])\n",
    "    den = X.shape[1] * np.sum([np.sum(Xyp==labels[k])-1 for k in np.arange(labels.size)])\n",
    "\n",
    "    return #### TU CODIGO AQUI ####\n",
    "\n",
    "print('El error RMSSTD es = ',medida_RMSSTD(Dx, Dyp, cDx))"
   ]
  },
  {
   "cell_type": "markdown",
   "metadata": {},
   "source": [
    "\n",
    "La medida R cuadrado se puede escribir como:\n"
   ]
  },
  {
   "cell_type": "code",
   "execution_count": null,
   "metadata": {},
   "outputs": [],
   "source": [
    "def medida_R_cuadrado(X, Xyp, cXs):\n",
    "    cXglob = np.mean(X,axis=0) \n",
    "    labels = np.sort(np.unique(Xyp))\n",
    "    sumTotal = np.sum(np.sum(X-cXglob,1)**2) \n",
    "    interior = np.sum([ np.sum(np.sum(X[Xyp==labels[k],:]-cXs[labels[k],:],1)**2) for k in np.arange(labels.size)])\n",
    "    \n",
    "    return #### TU CODIGO AQUI ####\n",
    "\n",
    "print('El valor de la medida R cuadrado es = ', medida_R_cuadrado(Dx, Dyp, cDx))"
   ]
  },
  {
   "cell_type": "markdown",
   "metadata": {},
   "source": [
    "\n",
    "La medida de ancho de silueta es...\n"
   ]
  },
  {
   "cell_type": "code",
   "execution_count": null,
   "metadata": {},
   "outputs": [],
   "source": [
    "def distancia_euclidiana(x, y):   \n",
    "    return np.sqrt(np.sum((x - y) ** 2))\n",
    "\n",
    "def matriz_distancias(X, distancia):\n",
    "    mD = np.zeros((X.shape[0],X.shape[0]))\n",
    "    for pair in it.product(np.arange(X.shape[0]), repeat=2):\n",
    "        mD[pair] = distancia(X[pair[0],:],X[pair[1],:])\n",
    "    return mD\n",
    "\n",
    "def calcular_matriz_a(X, Xyp, mD):\n",
    "    labels = np.sort(np.unique(Xyp))\n",
    "    factores = 1.0/(np.array([np.sum(Xyp==labels[k]) for k in np.arange(labels.size)])-1)\n",
    "    aX = np.zeros(X.shape[0])\n",
    "    for i in np.arange(X.shape[0]):\n",
    "        k = Xyp[i]\n",
    "        aX[i] = factores[k] * np.sum([mD[i,ip] \n",
    "                                      for ip in np.arange(X.shape[0])[Xyp==labels[k]]])\n",
    "    return(aX)\n",
    "\n",
    "def calcular_matriz_b(X, Xyp, mD):\n",
    "    labels = np.sort(np.unique(Xyp))\n",
    "    factores = 1.0/np.array([np.sum(Xyp==labels[k]) for k in np.arange(labels.size)])\n",
    "    bX = np.zeros(X.shape[0])\n",
    "    for i in np.arange(X.shape[0]):\n",
    "        k = Xyp[i]\n",
    "        ran = np.arange(labels.size)\n",
    "        ran = ran[np.arange(labels.size)!=k]\n",
    "        res = np.array([factores[h] * np.sum([mD[i,ip]\n",
    "                                              for ip in np.arange(X.shape[0])[Xyp==labels[h]]])\n",
    "                        for h in ran])\n",
    "        bX[i] = np.min(res)\n",
    "    return(bX)\n",
    "\n",
    "def medida_silueta(X, Xyp, distancia):\n",
    "    mD = matriz_distancias(X, distancia)\n",
    "\n",
    "    A = calcular_matriz_a(X, Xyp, mD)\n",
    "    B = calcular_matriz_b(X, Xyp, mD)\n",
    "    impl = #### TU CODIGO AQUI ####/np.maximum(A,B)\n",
    "    \n",
    "    return np.mean(impl)\n",
    "\n",
    "print('El valor de la medida Silueta es = ', medida_silueta(Dx, Dyp, distancia_euclidiana))"
   ]
  },
  {
   "cell_type": "markdown",
   "metadata": {},
   "source": [
    "\n",
    "La medida Calinksi-Harabasz es ...\n"
   ]
  },
  {
   "cell_type": "code",
   "execution_count": null,
   "metadata": {},
   "outputs": [],
   "source": [
    "def medida_calinski_harabasz(X, Xyp, cXs, distancia):\n",
    "    cXglob = np.mean(X,axis=0) \n",
    "    labels = np.sort(np.unique(Xyp))\n",
    "    factores = np.array([np.sum(Xyp==labels[k]) for k in np.arange(labels.size)])\n",
    "\n",
    "    num = (X.shape[0]-labels.size)*np.sum([factores[k]*distancia(cXs[k,:],cXglob)**2 \n",
    "                                           for k in np.arange(cXs.shape[0])])\n",
    "    den = (labels.size-1)*np.sum([np.sum([distancia(X[i,:],cXs[k,:])**2 \n",
    "                                            for i in np.arange(X.shape[0])[Xyp==labels[k]]])\n",
    "                                           for k in np.arange(cXs.shape[0])])\n",
    "    return num/den\n",
    "print('El valor de la medida Calinski-Harabasz es = ', medida_calinski_harabasz(Dx, Dyp, cDx, distancia_euclidiana))"
   ]
  },
  {
   "cell_type": "markdown",
   "metadata": {},
   "source": [
    "\n",
    "La medida I es...\n"
   ]
  },
  {
   "cell_type": "code",
   "execution_count": null,
   "metadata": {},
   "outputs": [],
   "source": [
    "def medida_I(X, Xyp, cXs, distancia):\n",
    "    cXglob = np.mean(X, axis = 0) \n",
    "    labels = np.sort(np.unique(Xyp))\n",
    "    maxDcs = np.max(matriz_distancias(cXs, distancia))\n",
    "\n",
    "    num = np.sum([distancia(X[i,:], cXglob) for i in np.arange(X.shape[0])])\n",
    "\n",
    "    den = labels.size * np.sum([np.sum([distancia(X[i,:], cXs[k,:])\n",
    "                                        for i in np.arange(X.shape[0])[Xyp==labels[k]]])\n",
    "                                for k in np.arange(cXs.shape[0])])\n",
    "    return #### TU CODIGO AQUI ####\n",
    "\n",
    "print('El valor de la medida I es = ', medida_I(Dx, Dyp, cDx, distancia_euclidiana))"
   ]
  },
  {
   "cell_type": "markdown",
   "metadata": {},
   "source": [
    "\n",
    "La medida Davies-Bouldin es...\n"
   ]
  },
  {
   "cell_type": "code",
   "execution_count": null,
   "metadata": {},
   "outputs": [],
   "source": [
    "def medida_davies_bouldin(X, Xyp, cXs, distancia):\n",
    "    labels = np.sort(np.unique(Xyp))\n",
    "    mDcs = matriz_distancias(cXs, distancia)\n",
    "    np.fill_diagonal(mDcs, np.Infinity)\n",
    "\n",
    "    vals = np.array([1.0 / np.sum(Xyp==labels[k]) * np.sum([distancia(X[i,:], cXs[k,:])\n",
    "                                                            for i in np.arange(X.shape[0])[Xyp==labels[k]]])\n",
    "                     for k in np.arange(cXs.shape[0])])\n",
    "    res = 1.0/labels.size*np.sum([np.max([(vals[k]+vals[kp])/mDcs[k,kp] \n",
    "                                          for kp in np.arange(labels.size)])\n",
    "                                  for k in np.arange(labels.size)])\n",
    "    return res\n",
    "print('El valor de la medida Davies-Bouldin es = ', medida_davies_bouldin(Dx, Dyp, cDx, distancia_euclidiana))"
   ]
  },
  {
   "cell_type": "markdown",
   "metadata": {},
   "source": [
    "<hr>\n",
    "<h2>Implementaciones en librerías de Python</h2>\n",
    "\n",
    "La mayoría de estas medidas ya están programadas en librerías de Python. Aquí tenemos unos ejemplos. Los comparamos con las que hemos programado para asegurarnos de que devuelven los mismos valores:\n"
   ]
  },
  {
   "cell_type": "code",
   "execution_count": null,
   "metadata": {},
   "outputs": [],
   "source": [
    "from sklearn.metrics import mutual_info_score, silhouette_score, davies_bouldin_score, calinski_harabaz_score\n",
    "\n",
    "print(np.round(np.abs(mutual_info_score(Dy, Dyp)-\n",
    "                      medida_informacion_mutua(mC)),10))\n",
    "print(np.round(np.abs(silhouette_score(Dx,Dyp)-\n",
    "                      medida_silueta(Dx, Dyp, distancia_euclidiana)),10))\n",
    "print(np.round(np.abs(calinski_harabaz_score(Dx, Dyp)-\n",
    "                      medida_calinski_harabasz(Dx, Dyp, cDx, distancia_euclidiana)),10))\n",
    "print(np.round(np.abs(davies_bouldin_score(Dx, Dyp)-\n",
    "                      medida_davies_bouldin(Dx, Dyp, cDx, distancia_euclidiana)),10))"
   ]
  },
  {
   "cell_type": "code",
   "execution_count": null,
   "metadata": {},
   "outputs": [],
   "source": []
  }
 ],
 "metadata": {
  "kernelspec": {
   "display_name": "Python 3",
   "language": "python",
   "name": "python3"
  },
  "language_info": {
   "codemirror_mode": {
    "name": "ipython",
    "version": 3
   },
   "file_extension": ".py",
   "mimetype": "text/x-python",
   "name": "python",
   "nbconvert_exporter": "python",
   "pygments_lexer": "ipython3",
   "version": "3.7.4"
  }
 },
 "nbformat": 4,
 "nbformat_minor": 2
}
