{
 "cells": [
  {
   "cell_type": "markdown",
   "metadata": {},
   "source": [
    "<center><h1>VC05: Agrupamiento basado en densidad - Mean Shift</h1></center>\n",
    "\n",
    "En esta práctica estudiaremos el funcionamiento y la utilización del agrupamiento basado en densidad, Desplazamiento de Medias o Mean Shift.\n",
    "\n",
    "Para empezar, cargamos las librerías que vamos a necesitar:"
   ]
  },
  {
   "cell_type": "code",
   "execution_count": null,
   "metadata": {},
   "outputs": [],
   "source": [
    "import numpy as np\n",
    "import pandas as pd\n",
    "import matplotlib.pyplot as plt\n",
    "\n",
    "from sklearn.metrics.pairwise import euclidean_distances\n",
    "from sklearn.datasets import make_blobs"
   ]
  },
  {
   "cell_type": "markdown",
   "metadata": {},
   "source": [
    "\n",
    "Empezamos creando el conjunto de datos con el que trabajaremos:\n"
   ]
  },
  {
   "cell_type": "code",
   "execution_count": null,
   "metadata": {
    "scrolled": false
   },
   "outputs": [],
   "source": [
    "np.random.seed(17) # Fijamos una semilla para asegurar la reproducibilidad de la práctica\n",
    "\n",
    "Dx, Dy = make_blobs(100, 2, centers=4, cluster_std=1.3)\n",
    "fig, ax = plt.subplots(figsize=(10,5))\n",
    "ax.scatter(Dx[:,0], Dx[:,1], c = Dy)"
   ]
  },
  {
   "cell_type": "markdown",
   "metadata": {},
   "source": [
    "\n",
    "El algoritmo MeanShift usa la función kernel para delimitar el vecindario y devolver el peso de cada instancia del vecindario en el proceso de cálculo del centro. Para todo ello, sólo usa el parámetro $h$:\n"
   ]
  },
  {
   "cell_type": "code",
   "execution_count": null,
   "metadata": {},
   "outputs": [],
   "source": [
    "def kernel_gaussiano(mDistancia, i, h):\n",
    "    dist = mDistancia[i,:]\n",
    "    dist = np.exp(-(dist / h)**2)\n",
    "    # Solo se aceptan los que estén en el vecindario\n",
    "    dist[dist <= (1.0 / np.e)] = 0\n",
    "\n",
    "    return dist"
   ]
  },
  {
   "cell_type": "markdown",
   "metadata": {},
   "source": [
    "\n",
    "Posteriormente, sólo es necesario ejecutar el algoritmo. En cada iteración y para cada ejemplo $x_i$, se calcula el peso que tiene en el desplazamiento de $x_i$ cada ejemplo del conjunto de datos. En base a eso, se calcula el centro de masas mediante una suma ponderada. El centro calculado sustituye a $x_i$. Este procedimiento es aplicado iterativamente para todo el conjunto de datos.\n",
    "\n",
    "Se consideran dos condiciones de parada: cuando ha convergido a los mismos centros o cuando se alcanza un número máximo de iteraciones.\n"
   ]
  },
  {
   "cell_type": "code",
   "execution_count": null,
   "metadata": {},
   "outputs": [],
   "source": [
    "def agrupamiento_densidad_MeanShift(Dx, h, n_iteraciones = 100):\n",
    "    Dx_hist = []\n",
    "    Dx_hist.append(Dx)\n",
    "    actDx = np.copy(Dx)\n",
    "    for it in np.arange(n_iteraciones):\n",
    "        mDistancia = euclidean_distances(actDx)\n",
    "\n",
    "        for i in np.arange(actDx.shape[0]):\n",
    "\n",
    "            weights = kernel_gaussiano(mDistancia, i, h)\n",
    "            weights.shape = (mDistancia.shape[0], 1)\n",
    "            numerador = np.sum(weights*actDx, axis=0)\n",
    "            denominador = np.sum(#### TU CODIGO AQUI ####)\n",
    "            Xp = numerador / denominador\n",
    "\n",
    "            actDx[i,:] = Xp\n",
    "        \n",
    "        Dx_hist.append(np.copy(actDx))\n",
    "        \n",
    "        if np.allclose(Dx_hist[it], Dx_hist[it+1]):\n",
    "            break\n",
    "\n",
    "    centros = np.unique(np.round(Dx_hist[len(Dx_hist)-1],3), axis=0)\n",
    "    asignacion = np.argmin(euclidean_distances(Dx_hist[len(Dx_hist)-1], centros),axis=1)\n",
    "\n",
    "    return [ Dx_hist , centros, asignacion]"
   ]
  },
  {
   "cell_type": "markdown",
   "metadata": {},
   "source": [
    "\n",
    "Con estas dos funciones ya podemos ejecutar el algoritmo MeanShift. Sólo necesitamos asignar valor al parámetro que define el vecindario ($h$):\n"
   ]
  },
  {
   "cell_type": "code",
   "execution_count": null,
   "metadata": {
    "scrolled": false
   },
   "outputs": [],
   "source": [
    "h=4\n",
    "\n",
    "[Dx_hist, centros, Dyp] = agrupamiento_densidad_MeanShift(Dx, h)"
   ]
  },
  {
   "cell_type": "markdown",
   "metadata": {},
   "source": [
    "\n",
    "Dibujamos los resultados de la siguiente manera:\n"
   ]
  },
  {
   "cell_type": "code",
   "execution_count": null,
   "metadata": {},
   "outputs": [],
   "source": [
    "fig, ax = plt.subplots(1,2,figsize=(20,5))\n",
    "ax[0].scatter(Dx[:,0], Dx[:,1], c = Dy)\n",
    "ax[1].scatter(Dx[:,0], Dx[:,1], c = Dyp)"
   ]
  },
  {
   "cell_type": "markdown",
   "metadata": {},
   "source": [
    "\n",
    "También podemos dibujar el desplazamiento de las medias hasta la configuración del agrupamiento final:\n"
   ]
  },
  {
   "cell_type": "code",
   "execution_count": null,
   "metadata": {
    "scrolled": false
   },
   "outputs": [],
   "source": [
    "fig, ax = plt.subplots(len(Dx_hist), 1, figsize=(10,len(Dx_hist)*5))\n",
    "\n",
    "for i in np.arange(len(Dx_hist)):\n",
    "    ax[i].scatter(Dx[:,0], Dx[:,1])\n",
    "    ax[i].set_title('Iteración: %d' % i)\n",
    "    ax[i].plot(Dx_hist[i][:,0], Dx_hist[i][:,1], 'ro')"
   ]
  },
  {
   "cell_type": "markdown",
   "metadata": {},
   "source": [
    "\n",
    "También se puede estudiar la bondad de la agrupación conociendo la realidad:\n"
   ]
  },
  {
   "cell_type": "code",
   "execution_count": null,
   "metadata": {},
   "outputs": [],
   "source": [
    "def matriz_confusion(cat_real, cat_pred):\n",
    "    cats = np.unique(cat_real)\n",
    "    clusts = np.unique(cat_pred)\n",
    "    mat = np.array([[np.sum(np.logical_and(cat_real==cats[i], cat_pred==clusts[j])) \n",
    "                     for j in np.arange(clusts.size)] \n",
    "                    for i in np.arange(cats.size)])\n",
    "    return(mat)\n",
    "\n",
    "def medida_error(mat):\n",
    "    assign = np.sum([np.max(mat[l,:]) for l in np.arange(mat.shape[0])])\n",
    "    return 1 - assign / float(np.sum(mat))\n",
    "\n",
    "def medida_pureza(mat):\n",
    "    totales = np.sum(mat,0)/float(np.sum(mat))\n",
    "    return np.sum([totales[k] * np.max(mat[:,k]/float(np.sum(mat[:,k]))) for k in np.arange(mat.shape[1])])\n",
    "\n",
    "def medida_precision(mat, l, k):\n",
    "    return mat[l,k]/float(np.sum(mat[:,k]))\n",
    "\n",
    "def medida_recall(mat, l, k):\n",
    "    return mat[l,k]/float(np.sum(mat[l,:]))\n",
    "\n",
    "def medida_f1_especifica(mat, l, k):\n",
    "    prec = medida_precision(mat, l, k)\n",
    "    rec = medida_recall(mat, l, k)\n",
    "    if (prec+rec)==0:\n",
    "        return 0\n",
    "    else:\n",
    "        return 2*prec*rec/(prec+rec)\n",
    "\n",
    "def medida_f1(mat):\n",
    "    totales = np.sum(mat,1)/float(np.sum(mat))\n",
    "    assign = np.sum([totales[l] * np.max([medida_f1_especifica(mat, l, k) \n",
    "                                          for k in np.arange(mat.shape[1])]) \n",
    "                     for l in np.arange(mat.shape[0])])\n",
    "    return assign\n",
    "\n",
    "mC = matriz_confusion(Dy,Dyp)\n",
    "\n",
    "print(mC)\n",
    "print('El valor del error cometido es = ', medida_error(mC))\n",
    "print('La pureza del agrupamiento obtenido es = ', medida_pureza(mC),\n",
    "      ' (** ESTE ES EL RESULTADO A INCLUIR EN EL CAMPUS**)')\n",
    "print('El valor F1 es = ', medida_f1(mC))"
   ]
  },
  {
   "cell_type": "markdown",
   "metadata": {},
   "source": [
    "<hr>\n",
    "<h2>Implementaciones en librerías de Python</h2>\n",
    "\n",
    "La librería ScikitLearn ya implementa el algoritmo de clustering MeanShift."
   ]
  },
  {
   "cell_type": "code",
   "execution_count": null,
   "metadata": {},
   "outputs": [],
   "source": [
    "from sklearn.cluster import MeanShift\n",
    "\n",
    "clustering = MeanShift(bandwidth = h).fit(Dx)\n",
    "\n",
    "# Mostrar resultados\n",
    "fig, ax = plt.subplots(1,2,figsize=(20,5))\n",
    "ax[0].scatter(Dx[:,0], Dx[:,1])#, c = Dy)\n",
    "ax[1].scatter(Dx[:,0], Dx[:,1], c = clustering.labels_)"
   ]
  },
  {
   "cell_type": "markdown",
   "metadata": {},
   "source": [
    "<hr>\n",
    "Podemos jugar con diferentes valores de $h$ para ver su efecto sobre diferentes conjuntos de datos:\n"
   ]
  },
  {
   "cell_type": "code",
   "execution_count": null,
   "metadata": {},
   "outputs": [],
   "source": [
    "data_file_url = 'https://raw.githubusercontent.com/javier-sevilla/ANS/master/datasets/sinteticos/dataset_inseparable.csv'\n",
    "D = np.array(pd.read_csv(data_file_url,header=0))\n",
    "D = D[ np.random.choice(np.arange(D.shape[0]), D.shape[0], replace=False) ,:]\n",
    "Dx = D[:,0:2]\n",
    "Dy = D[:,2]\n",
    "\n",
    "[Dx_hist, centros, Dyp1] = agrupamiento_densidad_MeanShift(Dx, h=0.05)\n",
    "[Dx_hist, centros, Dyp2] = agrupamiento_densidad_MeanShift(Dx, h=0.1)\n",
    "[Dx_hist, centros, Dyp3] = agrupamiento_densidad_MeanShift(Dx, h=0.2)\n",
    "[Dx_hist, centros, Dyp4] = agrupamiento_densidad_MeanShift(Dx, h=0.3)\n",
    "[Dx_hist, centros, Dyp5] = agrupamiento_densidad_MeanShift(Dx, h=0.4)\n",
    "\n",
    "fig, ax = plt.subplots(2,3,figsize=(20,10))\n",
    "ax[0,0].scatter(Dx[:,0], Dx[:,1], c = Dy)\n",
    "ax[0,1].scatter(Dx[:,0], Dx[:,1], c = Dyp1)\n",
    "ax[0,2].scatter(Dx[:,0], Dx[:,1], c = Dyp2)\n",
    "ax[1,0].scatter(Dx[:,0], Dx[:,1], c = Dyp3)\n",
    "ax[1,1].scatter(Dx[:,0], Dx[:,1], c = Dyp4)\n",
    "ax[1,2].scatter(Dx[:,0], Dx[:,1], c = Dyp5)"
   ]
  },
  {
   "cell_type": "code",
   "execution_count": null,
   "metadata": {},
   "outputs": [],
   "source": [
    "data_file_url = 'https://raw.githubusercontent.com/javier-sevilla/ANS/master/datasets/sinteticos/dataset_dos_remolinos.csv'\n",
    "D = np.array(pd.read_csv(data_file_url,header=0))\n",
    "D = D[ np.random.choice(np.arange(D.shape[0]), D.shape[0], replace=False) ,:]\n",
    "Dx = D[:,0:2]\n",
    "Dy = D[:,2]\n",
    "\n",
    "mDistancia = euclidean_distances(Dx)\n",
    "\n",
    "[Dx_hist, centros, Dyp1] = agrupamiento_densidad_MeanShift(Dx, h=0.05)\n",
    "[Dx_hist, centros, Dyp2] = agrupamiento_densidad_MeanShift(Dx, h=0.1)\n",
    "[Dx_hist, centros, Dyp3] = agrupamiento_densidad_MeanShift(Dx, h=0.2)\n",
    "[Dx_hist, centros, Dyp4] = agrupamiento_densidad_MeanShift(Dx, h=0.3)\n",
    "[Dx_hist, centros, Dyp5] = agrupamiento_densidad_MeanShift(Dx, h=0.4)\n",
    "\n",
    "fig, ax = plt.subplots(2,3,figsize=(20,10))\n",
    "ax[0,0].scatter(Dx[:,0], Dx[:,1], c = Dy)\n",
    "ax[0,1].scatter(Dx[:,0], Dx[:,1], c = Dyp1)\n",
    "ax[0,2].scatter(Dx[:,0], Dx[:,1], c = Dyp2)\n",
    "ax[1,0].scatter(Dx[:,0], Dx[:,1], c = Dyp3)\n",
    "ax[1,1].scatter(Dx[:,0], Dx[:,1], c = Dyp4)\n",
    "ax[1,2].scatter(Dx[:,0], Dx[:,1], c = Dyp5)"
   ]
  },
  {
   "cell_type": "code",
   "execution_count": null,
   "metadata": {},
   "outputs": [],
   "source": [
    "data_file_url = 'https://raw.githubusercontent.com/javier-sevilla/ANS/master/datasets/sinteticos/dataset_cuatro_diferente_medida.csv'\n",
    "D = np.array(pd.read_csv(data_file_url,header=0))\n",
    "D = D[ np.random.choice(np.arange(D.shape[0]), D.shape[0], replace=False) ,:]\n",
    "Dx = D[:,0:2]\n",
    "Dy = D[:,2]\n",
    "\n",
    "mDistancia = euclidean_distances(Dx)\n",
    "\n",
    "[Dx_hist, centros, Dyp1] = agrupamiento_densidad_MeanShift(Dx, h=0.05)\n",
    "[Dx_hist, centros, Dyp2] = agrupamiento_densidad_MeanShift(Dx, h=0.1)\n",
    "[Dx_hist, centros, Dyp3] = agrupamiento_densidad_MeanShift(Dx, h=0.2)\n",
    "[Dx_hist, centros, Dyp4] = agrupamiento_densidad_MeanShift(Dx, h=0.3)\n",
    "[Dx_hist, centros, Dyp5] = agrupamiento_densidad_MeanShift(Dx, h=0.4)\n",
    "\n",
    "fig, ax = plt.subplots(2,3,figsize=(20,10))\n",
    "ax[0,0].scatter(Dx[:,0], Dx[:,1], c = Dy)\n",
    "ax[0,1].scatter(Dx[:,0], Dx[:,1], c = Dyp1)\n",
    "ax[0,2].scatter(Dx[:,0], Dx[:,1], c = Dyp2)\n",
    "ax[1,0].scatter(Dx[:,0], Dx[:,1], c = Dyp3)\n",
    "ax[1,1].scatter(Dx[:,0], Dx[:,1], c = Dyp4)\n",
    "ax[1,2].scatter(Dx[:,0], Dx[:,1], c = Dyp5)"
   ]
  },
  {
   "cell_type": "code",
   "execution_count": null,
   "metadata": {},
   "outputs": [],
   "source": []
  }
 ],
 "metadata": {
  "kernelspec": {
   "display_name": "Python 3",
   "language": "python",
   "name": "python3"
  },
  "language_info": {
   "codemirror_mode": {
    "name": "ipython",
    "version": 3
   },
   "file_extension": ".py",
   "mimetype": "text/x-python",
   "name": "python",
   "nbconvert_exporter": "python",
   "pygments_lexer": "ipython3",
   "version": "3.7.1"
  }
 },
 "nbformat": 4,
 "nbformat_minor": 2
}
