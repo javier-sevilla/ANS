{
 "cells": [
  {
   "cell_type": "markdown",
   "metadata": {},
   "source": [
    "<center><h1>VC05: Agrupamiento basado en densidad - DBSCAN</h1></center>\n",
    "\n",
    "En esta práctica estudiaremos el funcionamiento y la utilización del agrupamiento basado en densidad, DBSCAN.\n",
    "\n",
    "Para empezar, cargamos las librerías que vamos a necesitar:"
   ]
  },
  {
   "cell_type": "code",
   "execution_count": null,
   "metadata": {},
   "outputs": [],
   "source": [
    "import numpy as np\n",
    "import pandas as pd\n",
    "import matplotlib.pyplot as plt"
   ]
  },
  {
   "cell_type": "markdown",
   "metadata": {},
   "source": [
    "\n",
    "Para comenzar, cargamos el conjunto de datos con el que trabajaremos:\n"
   ]
  },
  {
   "cell_type": "code",
   "execution_count": null,
   "metadata": {
    "scrolled": true
   },
   "outputs": [],
   "source": [
    "np.random.seed(17) # Fijamos una semilla para asegurar la reproducibilidad de la práctica\n",
    "\n",
    "data_file_url = 'https://raw.githubusercontent.com/javier-sevilla/ANS/master/datasets/sinteticos/dataset_inseparable.csv'\n",
    "D = np.array(pd.read_csv(data_file_url,header=0))\n",
    "D = D[ np.random.choice(np.arange(D.shape[0]), D.shape[0], replace=False),:]\n",
    "Dx = D[:,:2]\n",
    "Dy = D[:,2]\n",
    "\n",
    "fig, ax = plt.subplots(figsize=(10,5))\n",
    "ax.scatter(Dx[:,0], Dx[:,1], c = Dy)"
   ]
  },
  {
   "cell_type": "markdown",
   "metadata": {},
   "source": [
    "\n",
    "Uno de los pasos clave del algoritmo DBSCAN es el descubrimiento del vecindario (de un ejemplo $x_i$). Para ello sólo se precisa de la matriz de distancias y el parámetro $\\epsilon$ que marca un umbral en la distancia máxima entre dos puntos que define el vecindario:\n"
   ]
  },
  {
   "cell_type": "code",
   "execution_count": null,
   "metadata": {},
   "outputs": [],
   "source": [
    "def encuentra_vecindario(mDistancia, i, eps):\n",
    "    vecinos = np.where(mDistancia[i,:] < eps)[0]\n",
    "    \n",
    "    vecinos = vecinos[vecinos != i]\n",
    "            \n",
    "    return vecinos"
   ]
  },
  {
   "cell_type": "markdown",
   "metadata": {},
   "source": [
    "\n",
    "Aparte de ello, el algoritmo DBSCAN recorre el conjunto de datos y para cada ejemplo, si no ha sido asignado a otro clúster y tiene un número de vecinos mínimo necesario $M$, crea un nuevo clúster y asigna al mismo todos los ejemplos no asignados denso-alcanzables:\n"
   ]
  },
  {
   "cell_type": "code",
   "execution_count": null,
   "metadata": {},
   "outputs": [],
   "source": [
    "def agrupamiento_densidad_DBSCAN(mDistancia, eps, M):\n",
    " \n",
    "    labels = np.zeros(mDistancia.shape[0])\n",
    "    C = 0\n",
    "    \n",
    "    for i in np.arange(mDistancia.shape[0]):\n",
    "    \n",
    "        if labels[i] != 0:\n",
    "            continue\n",
    "        \n",
    "        vecindario = encuentra_vecindario(mDistancia, i, eps)\n",
    "        \n",
    "        if #### TU CODIGO AQUI ####:\n",
    "            # Si NO es un punto nuclear\n",
    "            labels[i] = -1\n",
    "        else:  \n",
    "            # Si es un punto nuclear\n",
    "            C += 1\n",
    "            labels[i] = C\n",
    "            expandir_cluster(mDistancia, labels, vecindario, C, eps, M)\n",
    "    \n",
    "    return labels"
   ]
  },
  {
   "cell_type": "markdown",
   "metadata": {},
   "source": [
    "\n",
    "La función 'expandir_cluster' trata de asignar otros ejemplos más allá del vecindario de $x_i$ al nuevo clúster que se ha creado para él. Busca entre los ejemplos del vecindario actual y si alguno de ellos es un punto nuclear (mínimo número de vecinos, $M$), se incorpora su vecindario al vecindario del clúster que se está explorando. Todos los elementos del vecindario se asignan al clúster:\n"
   ]
  },
  {
   "cell_type": "code",
   "execution_count": null,
   "metadata": {},
   "outputs": [],
   "source": [
    "def expandir_cluster(mDistancia, labels, vecindario, C, eps, M):\n",
    "    it = 0\n",
    "    while it < vecindario.size:\n",
    "        j = vecindario[it]\n",
    "       \n",
    "        if labels[j] == -1:\n",
    "            labels[j] = C\n",
    "        elif labels[j] == 0:\n",
    "            labels[j] = C\n",
    "            \n",
    "            vecindario_j = encuentra_vecindario(mDistancia, j, eps)\n",
    "            \n",
    "            if vecindario_j.size >= M:\n",
    "                vecindario = np.append(vecindario, vecindario_j)\n",
    "        it += 1        "
   ]
  },
  {
   "cell_type": "markdown",
   "metadata": {},
   "source": [
    "\n",
    "Con estas tres funciones ya podemos ejecutar el algoritmo DBSCAN. Sólo necesitamos la matriz de distancias y asignar valor al umbral que define el vecindario ($\\epsilon$) y al umbral que define un punto nuclear ($M$):\n"
   ]
  },
  {
   "cell_type": "code",
   "execution_count": null,
   "metadata": {},
   "outputs": [],
   "source": [
    "from sklearn.metrics.pairwise import euclidean_distances\n",
    "\n",
    "eps = .07\n",
    "M = 38\n",
    "\n",
    "mDistancia = euclidean_distances(Dx)\n",
    "Dyp = agrupamiento_densidad_DBSCAN(mDistancia,eps,M)"
   ]
  },
  {
   "cell_type": "markdown",
   "metadata": {},
   "source": [
    "\n",
    "Dibujamos los resultados de la siguiente manera:\n"
   ]
  },
  {
   "cell_type": "code",
   "execution_count": null,
   "metadata": {
    "scrolled": true
   },
   "outputs": [],
   "source": [
    "fig, ax = plt.subplots(1,2,figsize=(20,5))\n",
    "ax[0].scatter(Dx[:,0], Dx[:,1], c = Dy)\n",
    "ax[1].scatter(Dx[:,0], Dx[:,1], c = Dyp)"
   ]
  },
  {
   "cell_type": "markdown",
   "metadata": {},
   "source": [
    "\n",
    "Y las métricas de bondad del agrupamiento son:\n"
   ]
  },
  {
   "cell_type": "code",
   "execution_count": null,
   "metadata": {},
   "outputs": [],
   "source": [
    "def matriz_confusion(cat_real, cat_pred):\n",
    "    cats = np.unique(cat_real)\n",
    "    clusts = np.unique(cat_pred)\n",
    "    mat = np.array([[np.sum(np.logical_and(cat_real==cats[i], cat_pred==clusts[j])) \n",
    "                     for j in np.arange(clusts.size)] \n",
    "                    for i in np.arange(cats.size)])\n",
    "    return(mat)\n",
    "\n",
    "def medida_error(mat):\n",
    "    assign = np.sum([np.max(mat[l,:]) for l in np.arange(mat.shape[0])])\n",
    "    return 1 - assign / float(np.sum(mat))\n",
    "\n",
    "def medida_pureza(mat):\n",
    "    totales = np.sum(mat,0)/float(np.sum(mat))\n",
    "    return np.sum([totales[k] * np.max(mat[:,k]/float(np.sum(mat[:,k]))) for k in np.arange(mat.shape[1])])\n",
    "\n",
    "def medida_precision(mat, l, k):\n",
    "    return mat[l,k]/float(np.sum(mat[:,k]))\n",
    "\n",
    "def medida_recall(mat, l, k):\n",
    "    return mat[l,k]/float(np.sum(mat[l,:]))\n",
    "\n",
    "def medida_f1_especifica(mat, l, k):\n",
    "    prec = medida_precision(mat, l, k)\n",
    "    rec = medida_recall(mat, l, k)\n",
    "    if (prec+rec)==0:\n",
    "        return 0\n",
    "    else:\n",
    "        return 2*prec*rec/(prec+rec)\n",
    "\n",
    "def medida_f1(mat):\n",
    "    totales = np.sum(mat,1)/float(np.sum(mat))\n",
    "    assign = np.sum([totales[l] * np.max([medida_f1_especifica(mat, l, k) \n",
    "                                          for k in np.arange(mat.shape[1])]) \n",
    "                     for l in np.arange(mat.shape[0])])\n",
    "    return assign\n",
    "\n",
    "mC = matriz_confusion(Dy,Dyp)\n",
    "\n",
    "print(mC)\n",
    "print('El valor del error cometido es = ', medida_error(mC))\n",
    "print('La pureza del agrupamiento obtenido es = ', medida_pureza(mC))\n",
    "print('El valor F1 es = ', medida_f1(mC),\n",
    "      ' (** ESTE ES EL RESULTADO A INCLUIR EN EL CAMPUS**)')"
   ]
  },
  {
   "cell_type": "markdown",
   "metadata": {},
   "source": [
    "\n",
    "Nótese que la primera columna no corresponde realmente a un clúster predicho, sino a todo los ejemplos que DBSCAN considera ruido y no asigna a ningún clúster.\n"
   ]
  },
  {
   "cell_type": "markdown",
   "metadata": {},
   "source": [
    "<hr>\n",
    "<h2>Implementaciones en librerías de Python</h2>\n",
    "\n",
    "La librería ScikitLearn ya implementa el algoritmo de clustering DBSCAN."
   ]
  },
  {
   "cell_type": "code",
   "execution_count": null,
   "metadata": {},
   "outputs": [],
   "source": [
    "from sklearn.cluster import DBSCAN\n",
    "\n",
    "clustering = DBSCAN(eps=eps, min_samples=M).fit(Dx)\n",
    "\n",
    "# Mostrar resultados\n",
    "fig, ax = plt.subplots(1,2,figsize=(20,5))\n",
    "ax[0].scatter(Dx[:,0], Dx[:,1], c = Dy)\n",
    "ax[1].scatter(Dx[:,0], Dx[:,1], c = clustering.labels_)"
   ]
  },
  {
   "cell_type": "markdown",
   "metadata": {},
   "source": [
    "<hr>\n",
    "Podemos jugar con diferentes valores de $\\epsilon$ y $M$ para ver su efecto sobre diferentes conjuntos de datos:\n"
   ]
  },
  {
   "cell_type": "code",
   "execution_count": null,
   "metadata": {},
   "outputs": [],
   "source": [
    "data_file_url = 'https://raw.githubusercontent.com/javier-sevilla/ANS/master/datasets/sinteticos/dataset_inseparable.csv'\n",
    "D = np.array(pd.read_csv(data_file_url,header=0))\n",
    "D = D[ np.random.choice(np.arange(D.shape[0]), D.shape[0], replace=False) ,:]\n",
    "Dx = D[:,0:2]\n",
    "Dy = D[:,2]\n",
    "\n",
    "mDistancia = euclidean_distances(Dx)\n",
    "\n",
    "Dyp1 = agrupamiento_densidad_DBSCAN(mDistancia,eps=.03,M=38)\n",
    "Dyp2 = agrupamiento_densidad_DBSCAN(mDistancia,eps=.07,M=38)\n",
    "Dyp3 = agrupamiento_densidad_DBSCAN(mDistancia,eps=.05,M=25)\n",
    "Dyp4 = agrupamiento_densidad_DBSCAN(mDistancia,eps=.03,M=18)\n",
    "Dyp5 = agrupamiento_densidad_DBSCAN(mDistancia,eps=.07,M=18)\n",
    "\n",
    "fig, ax = plt.subplots(2,3,figsize=(20,10))\n",
    "ax[0,0].scatter(Dx[:,0], Dx[:,1], c = Dy)\n",
    "ax[0,1].scatter(Dx[:,0], Dx[:,1], c = Dyp1)\n",
    "ax[0,2].scatter(Dx[:,0], Dx[:,1], c = Dyp2)\n",
    "ax[1,0].scatter(Dx[:,0], Dx[:,1], c = Dyp3)\n",
    "ax[1,1].scatter(Dx[:,0], Dx[:,1], c = Dyp4)\n",
    "ax[1,2].scatter(Dx[:,0], Dx[:,1], c = Dyp5)"
   ]
  },
  {
   "cell_type": "code",
   "execution_count": null,
   "metadata": {},
   "outputs": [],
   "source": [
    "data_file_url = 'https://raw.githubusercontent.com/javier-sevilla/ANS/master/datasets/sinteticos/dataset_dos_remolinos.csv'\n",
    "D = np.array(pd.read_csv(data_file_url,header=0))\n",
    "D = D[ np.random.choice(np.arange(D.shape[0]), D.shape[0], replace=False) ,:]\n",
    "Dx = D[:,0:2]\n",
    "Dy = D[:,2]\n",
    "\n",
    "mDistancia = euclidean_distances(Dx)\n",
    "\n",
    "Dyp1 = agrupamiento_densidad_DBSCAN(mDistancia,eps=.03,M=38)\n",
    "Dyp2 = agrupamiento_densidad_DBSCAN(mDistancia,eps=.07,M=38)\n",
    "Dyp3 = agrupamiento_densidad_DBSCAN(mDistancia,eps=.05,M=25)\n",
    "Dyp4 = agrupamiento_densidad_DBSCAN(mDistancia,eps=.03,M=18)\n",
    "Dyp5 = agrupamiento_densidad_DBSCAN(mDistancia,eps=.07,M=18)\n",
    "\n",
    "fig, ax = plt.subplots(2,3,figsize=(20,10))\n",
    "ax[0,0].scatter(Dx[:,0], Dx[:,1], c = Dy)\n",
    "ax[0,1].scatter(Dx[:,0], Dx[:,1], c = Dyp1)\n",
    "ax[0,2].scatter(Dx[:,0], Dx[:,1], c = Dyp2)\n",
    "ax[1,0].scatter(Dx[:,0], Dx[:,1], c = Dyp3)\n",
    "ax[1,1].scatter(Dx[:,0], Dx[:,1], c = Dyp4)\n",
    "ax[1,2].scatter(Dx[:,0], Dx[:,1], c = Dyp5)"
   ]
  },
  {
   "cell_type": "code",
   "execution_count": null,
   "metadata": {},
   "outputs": [],
   "source": [
    "data_file_url = 'https://raw.githubusercontent.com/javier-sevilla/ANS/master/datasets/sinteticos/dataset_cuatro_diferente_medida.csv'\n",
    "D = np.array(pd.read_csv(data_file_url,header=0))\n",
    "D = D[ np.random.choice(np.arange(D.shape[0]), D.shape[0], replace=False) ,:]\n",
    "Dx = D[:,0:2]\n",
    "Dy = D[:,2]\n",
    "\n",
    "mDistancia = euclidean_distances(Dx)\n",
    "\n",
    "Dyp1 = agrupamiento_densidad_DBSCAN(mDistancia,eps=.03,M=38)\n",
    "Dyp2 = agrupamiento_densidad_DBSCAN(mDistancia,eps=.07,M=38)\n",
    "Dyp3 = agrupamiento_densidad_DBSCAN(mDistancia,eps=.05,M=25)\n",
    "Dyp4 = agrupamiento_densidad_DBSCAN(mDistancia,eps=.03,M=18)\n",
    "Dyp5 = agrupamiento_densidad_DBSCAN(mDistancia,eps=.07,M=18)\n",
    "\n",
    "fig, ax = plt.subplots(2,3,figsize=(20,10))\n",
    "ax[0,0].scatter(Dx[:,0], Dx[:,1], c = Dy)\n",
    "ax[0,1].scatter(Dx[:,0], Dx[:,1], c = Dyp1)\n",
    "ax[0,2].scatter(Dx[:,0], Dx[:,1], c = Dyp2)\n",
    "ax[1,0].scatter(Dx[:,0], Dx[:,1], c = Dyp3)\n",
    "ax[1,1].scatter(Dx[:,0], Dx[:,1], c = Dyp4)\n",
    "ax[1,2].scatter(Dx[:,0], Dx[:,1], c = Dyp5)"
   ]
  },
  {
   "cell_type": "code",
   "execution_count": null,
   "metadata": {},
   "outputs": [],
   "source": []
  }
 ],
 "metadata": {
  "kernelspec": {
   "display_name": "Python 3",
   "language": "python",
   "name": "python3"
  },
  "language_info": {
   "codemirror_mode": {
    "name": "ipython",
    "version": 3
   },
   "file_extension": ".py",
   "mimetype": "text/x-python",
   "name": "python",
   "nbconvert_exporter": "python",
   "pygments_lexer": "ipython3",
   "version": "3.7.1"
  }
 },
 "nbformat": 4,
 "nbformat_minor": 2
}
