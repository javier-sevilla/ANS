{
 "cells": [
  {
   "cell_type": "markdown",
   "metadata": {},
   "source": [
    "<center><h1>VC04: Agrupamiento espectral</h1></center>\n",
    "\n",
    "En esta práctica estudiaremos el funcionamiento y la utilización del agrupamiento espectral.\n",
    "\n",
    "Para empezar, cargamos las librerías que vamos a necesitar:"
   ]
  },
  {
   "cell_type": "code",
   "execution_count": null,
   "metadata": {},
   "outputs": [],
   "source": [
    "import numpy as np\n",
    "import pandas as pd\n",
    "import matplotlib.pyplot as plt\n",
    "from scipy import linalg\n",
    "from sklearn.cluster import KMeans"
   ]
  },
  {
   "cell_type": "markdown",
   "metadata": {},
   "source": [
    "\n",
    "Para comenzar, cargamos el conjunto de datos con el que trabajaremos:\n"
   ]
  },
  {
   "cell_type": "code",
   "execution_count": null,
   "metadata": {},
   "outputs": [],
   "source": [
    "np.random.seed(17) # Fijamos una semilla para asegurar la reproducibilidad de la práctica\n",
    "\n",
    "data_file_url = 'https://raw.githubusercontent.com/javier-sevilla/ANS/master/datasets/sinteticos/dataset_circulos_concentricos.csv'\n",
    "D = np.array(pd.read_csv(data_file_url,header=0))\n",
    "D = D[ np.random.choice(np.arange(D.shape[0]), D.shape[0], replace=False),:]\n",
    "Dx = D[:,:2]\n",
    "Dy = D[:,2]\n",
    "\n",
    "fig, ax = plt.subplots(figsize=(10,5))\n",
    "ax.scatter(Dx[:,0], Dx[:,1], c = Dy)"
   ]
  },
  {
   "cell_type": "markdown",
   "metadata": {},
   "source": [
    "\n",
    "Con este dataset trabajaremos y estudiaremos en esta práctica el agrupamiento espectral y sus diferentes configuraciones. Para empezar, será necesario calcular la matriz de similitudes. Para ello, usaremos la función de la libreria Scikit-learn para obtener la matriz de distancias, concretamente, usando la métrica euclidiana. \n",
    "\n",
    "Para transformar la matriz de distancias en una de similitudes se usa la función exponencial de la siguiente manera:\n"
   ]
  },
  {
   "cell_type": "code",
   "execution_count": null,
   "metadata": {},
   "outputs": [],
   "source": [
    "from sklearn.metrics.pairwise import euclidean_distances\n",
    "\n",
    "mSimilitud = euclidean_distances(Dx)\n",
    "\n",
    "sigma = 0.1\n",
    "mSimilitud = np.exp(-np.power(mSimilitud,2)/(2*sigma**2))"
   ]
  },
  {
   "cell_type": "markdown",
   "metadata": {},
   "source": [
    "\n",
    "Tal y como se ha visto en la parte teórica, el agrupamiento espectral consiste en 4 pasos básicos: la obtención de la matriz de adyacencias o afinidad, la obtención de la matriz Laplaciana, el cálculo de los vectores y valores propios de esta última, y el clustering mediante K-means (u otra técnica tradicional). Iremos paso a paso revisando los diferentes pasos.\n",
    "\n",
    "Para comenzar, calcularemos la matriz de afinidad completa, que contempla que todos los ejemplos (nodos) están conectados con todos:\n"
   ]
  },
  {
   "cell_type": "code",
   "execution_count": null,
   "metadata": {},
   "outputs": [],
   "source": [
    "def matriz_afinidad_completa(mSimilitud):\n",
    "    mAfinidad = #### TU CODIGO AQUI ####\n",
    "    return mAfinidad"
   ]
  },
  {
   "cell_type": "markdown",
   "metadata": {},
   "source": [
    "\n",
    "La matriz de afinidad mediante umbral sólo conecta aquellos nodos cuya similitud sea mayor que cierto umbral fijado. Todos aquellos pares de ejemplos (nodos) que superen el umbral reciben como valor $W_{ij}$ el valor de similitud correspondiente, y 0 cuando no están conectados:\n"
   ]
  },
  {
   "cell_type": "code",
   "execution_count": null,
   "metadata": {},
   "outputs": [],
   "source": [
    "def matriz_afinidad_umbral(mSimilitud, umbral=0.1):\n",
    "    mAfinidad = np.zeros(mSimilitud.shape)\n",
    "    mAfinidad[mSimilitud >= umbral] = mSimilitud[mSimilitud >= umbral]\n",
    "    return mAfinidad"
   ]
  },
  {
   "cell_type": "markdown",
   "metadata": {},
   "source": [
    "\n",
    "La matriz de afinidad mediante KNN sólo conecta aquellos nodos que sean uno de los ($K$) vecinos más cercanos (similares) entre ellos. Todos aquellos pares de ejemplos (nodos) que sean vecinos cercanos reciben como valor $W_{ij}$ el valor de similitud correspondiente, y 0 cuando no están conectados. Otra alternativa es calcular dos matrices, $W^1$ y $W^2$, tal que $W^1_{ij}$ toma valor 1 cuando el nodo $j$ es uno de los $K$ vecinos más similares de $i$, y $W^2_{ij}$ toma valor 1 cuando el nodo $i$ es uno de los K vecinos más similares de $j$. La matriz de afinidad devuelta sería $(W^1+W^2)/2$:\n"
   ]
  },
  {
   "cell_type": "code",
   "execution_count": null,
   "metadata": {},
   "outputs": [],
   "source": [
    "def matriz_afinidad_KNN(mSimilitud, KNN=5):\n",
    "    auxM = mSimilitud.copy()\n",
    "    np.fill_diagonal(auxM, 0)\n",
    "\n",
    "    mAfinidadA = np.zeros(auxM.shape)\n",
    "    a = (np.argsort(-auxM, axis=0)[0:KNN,:]).flatten()\n",
    "    b = np.tile(np.arange(auxM.shape[0]),KNN)\n",
    "    mAfinidadA[a,b] = 1\n",
    "    np.fill_diagonal(mAfinidadA, 1)\n",
    "\n",
    "    mAfinidadB = np.zeros(auxM.shape)\n",
    "    a = np.repeat(np.arange(auxM.shape[0]),KNN)\n",
    "    b = (np.argsort(-auxM, axis=1)[:,0:KNN]).flatten()\n",
    "    mAfinidadB[a,b] = 1\n",
    "    np.fill_diagonal(mAfinidadB, 1)\n",
    "\n",
    "    return (mAfinidadA+mAfinidadB)/2"
   ]
  },
  {
   "cell_type": "markdown",
   "metadata": {},
   "source": [
    "\n",
    "Una vez obtenida la matriz de afinidad, el siguiente paso es calcular una matriz Laplaciana. Como se ha visto en la parte teórica, hay tres manera de hacerlo.\n",
    "\n",
    "La matriz Laplaciana no normalizada tiene, en cada celda $L_{ij}$, con $i\\neq j$, el valor $-W_{ij}$, y en su diagonal principal $L_{ii}=D_{i}$, donde $D_i$ es la suma de $W_{ij}$ para toda la fila (para todo $j$):\n"
   ]
  },
  {
   "cell_type": "code",
   "execution_count": null,
   "metadata": {},
   "outputs": [],
   "source": [
    "def matriz_Laplaciana(mAfinidad):\n",
    "    R = -mAfinidad.copy()\n",
    "    np.fill_diagonal(R, np.sum(mAfinidad,axis=1)-1)\n",
    "    return R"
   ]
  },
  {
   "cell_type": "markdown",
   "metadata": {},
   "source": [
    "\n",
    "La matriz Laplaciana normalizada (o de camino aleatorio) se calcula como la diferencia entre la matriz identidad y el producto de la inversa de la matriz diagonal de grado, $D$, y la matriz de afinidad:\n"
   ]
  },
  {
   "cell_type": "code",
   "execution_count": null,
   "metadata": {},
   "outputs": [],
   "source": [
    "def matriz_Laplaciana_normalizada(mAfinidad):\n",
    "    D = np.sum(mAfinidad,axis=1)\n",
    "    D = D**(-1)\n",
    "    I = np.diag( np.ones(D.size) )\n",
    "    D = np.diag(D)\n",
    "    return I - D.dot(mAfinidad)"
   ]
  },
  {
   "cell_type": "markdown",
   "metadata": {},
   "source": [
    "\n",
    "Para obtener la matriz Laplaciana normalizada simétrica se calcula, $D'$ la inversa de la raiz cuadrada de la matriz diagonal de grado, $D$. El resultado final se obtiene tras calcular la diferencia entre la matriz identidad y el producto de $D'$, la matriz de afinidad y $D'$ de nuevo:\n"
   ]
  },
  {
   "cell_type": "code",
   "execution_count": null,
   "metadata": {},
   "outputs": [],
   "source": [
    "def matriz_Laplaciana_normalizada_simetrica(mAfinidad):\n",
    "    D = np.sum(mAfinidad,axis=1)\n",
    "    D = D**(-1.0/2)\n",
    "    I = np.diag( np.ones(D.size) )\n",
    "    D = np.diag(D)\n",
    "    return I - D.dot(mAfinidad).dot(D)"
   ]
  },
  {
   "cell_type": "markdown",
   "metadata": {},
   "source": [
    "\n",
    "Con esto, sólo nos queda obtener los valores y vectores propios de la matriz Laplaciana, para lo que usaremos la función eig de la libraría scipy. Los primeros vectores propios, ordenados según su valor propio correspondiente, se recogen y se usan como variables de nuestro nuevo dataset, el conjunto de datos transformado que usaremos posteriormente para realizar el clustering K-means:\n"
   ]
  },
  {
   "cell_type": "code",
   "execution_count": null,
   "metadata": {},
   "outputs": [],
   "source": [
    "def agrupamiento_espectral(mSimilitud, K, afinidad = matriz_afinidad_completa, \n",
    "                           laplaciana = matriz_Laplaciana_normalizada, **kwargs):\n",
    "    mAfinidad = afinidad(mSimilitud, **kwargs)\n",
    "    mLaplaciana = laplaciana(mAfinidad)\n",
    "\n",
    "    valores_pr, vectores_pr = linalg.eig(mLaplaciana)\n",
    "    orden = valores_pr.real.argsort()\n",
    "    vectores_pr = vectores_pr.real[:, orden]\n",
    "\n",
    "    Dx_trans = vectores_pr[:, np.arange(K)]\n",
    "    modelo = KMeans(n_clusters = K)\n",
    "    modelo = modelo.fit(Dx_trans)\n",
    "    Dyp = modelo.predict(Dx_trans)\n",
    "\n",
    "    return [mAfinidad, Dyp]"
   ]
  },
  {
   "cell_type": "markdown",
   "metadata": {},
   "source": [
    "\n",
    "Con esta última función, ya se puede proceder a realizar el agrupamiento:\n"
   ]
  },
  {
   "cell_type": "code",
   "execution_count": null,
   "metadata": {},
   "outputs": [],
   "source": [
    "K = 2\n",
    "knn = 40\n",
    "mAfinidad, Dyp = agrupamiento_espectral(mSimilitud, K, \n",
    "                                        matriz_afinidad_KNN,\n",
    "                                        matriz_Laplaciana_normalizada, KNN=knn)\n",
    "\n",
    "fig, ax = plt.subplots(figsize=(10,5))\n",
    "ax.scatter(Dx[:,0],Dx[:,1], c=Dyp)"
   ]
  },
  {
   "cell_type": "markdown",
   "metadata": {},
   "source": [
    "\n",
    "Otra manera de realizar el agrupamiento es usar la afinidad de umbral y la matriz normalizada:\n"
   ]
  },
  {
   "cell_type": "code",
   "execution_count": null,
   "metadata": {},
   "outputs": [],
   "source": [
    "K = 2\n",
    "eps = 0.8\n",
    "mAfinidad, Dyp = agrupamiento_espectral(mSimilitud, K, \n",
    "                                        matriz_afinidad_umbral,\n",
    "                                        matriz_Laplaciana_normalizada, umbral=eps)\n",
    "\n",
    "fig, ax = plt.subplots(figsize=(10,5))\n",
    "ax.scatter(Dx[:,0],Dx[:,1], c=Dyp)"
   ]
  },
  {
   "cell_type": "markdown",
   "metadata": {},
   "source": [
    "\n",
    "Una tercera prueba podría consistir en usar la afinidad completa y la matriz normalizada simétrica:\n"
   ]
  },
  {
   "cell_type": "code",
   "execution_count": null,
   "metadata": {},
   "outputs": [],
   "source": [
    "K = 2\n",
    "mAfinidad, Dyp = agrupamiento_espectral(mSimilitud, K, \n",
    "                                        matriz_afinidad_completa,\n",
    "                                        matriz_Laplaciana_normalizada_simetrica)\n",
    "\n",
    "fig, ax = plt.subplots(figsize=(10,5))\n",
    "ax.scatter(Dx[:,0],Dx[:,1], c=Dyp)"
   ]
  },
  {
   "cell_type": "markdown",
   "metadata": {},
   "source": [
    "Se puede observar que este último ejemplo, esta combinación específica de parámetros para el algoritmo, no devuelve el restultado esperado. ¿Cuál es la razón? **ÉSTA ES UNA DE LAS PREGUNTAS A RESPONDER EN EL CAMPUS VIRTUAL**\n",
    "\n",
    "<hr>\n",
    "<h2>Implementaciones en librerías de Python</h2>\n",
    "\n",
    "La librería ScikitLearn ya implementa el algoritmo de clustering espectral.\n",
    "\n",
    "Están implementadas (parámetro affinity) las matrices de afinidad completa y KNN. Usa la matriz Laplaciana normalizada.\n"
   ]
  },
  {
   "cell_type": "code",
   "execution_count": null,
   "metadata": {},
   "outputs": [],
   "source": [
    "from sklearn.cluster import SpectralClustering\n",
    "K = 2\n",
    "knn = 5\n",
    "clustering = SpectralClustering(n_clusters = K, \n",
    "                                affinity = 'nearest_neighbors', n_neighbors = knn,\n",
    "                                random_state = 0).fit(Dx)\n",
    "\n",
    "fig, ax = plt.subplots(figsize = (10,5))\n",
    "ax.scatter(Dx[:,0], Dx[:,1], c=clustering.labels_)"
   ]
  },
  {
   "cell_type": "code",
   "execution_count": null,
   "metadata": {
    "scrolled": true
   },
   "outputs": [],
   "source": [
    "K=2\n",
    "clustering = SpectralClustering(n_clusters = K, \n",
    "                                gamma=1./(2*sigma**2),\n",
    "                                random_state = 0).fit(Dx)\n",
    "\n",
    "fig, ax = plt.subplots(figsize = (10,5))\n",
    "ax.scatter(Dx[:,0], Dx[:,1], c=clustering.labels_)"
   ]
  },
  {
   "cell_type": "markdown",
   "metadata": {},
   "source": [
    "\n",
    "Con la siguiente función dibujaremos los resultados del clustering (fijado un K) usando diferentes criterios. Podemos usar diferentes datasets de ejemplo (ver aquellos que tiene 2 dimensiones en:\n",
    "https://github.com/javier-sevilla/ANS/tree/master/datasets\n",
    "\n",
    "Podemos hacer unas pruebas para ganar algunas intuiciones sobre cuál es la mejor estrategia según el tipo de datos...\n"
   ]
  },
  {
   "cell_type": "code",
   "execution_count": null,
   "metadata": {},
   "outputs": [],
   "source": [
    "def plot_varios(Dx, Dy, K, knn=5, eps=0.8):\n",
    "    mSimilitud = euclidean_distances(Dx)\n",
    "    sigma = 0.1\n",
    "    mSimilitud = np.exp(-np.power(mSimilitud,2)/(2*sigma**2))\n",
    "    \n",
    "    fig, ax = plt.subplots(2,3, figsize=(20,10))\n",
    "    ax[0,0].scatter(Dx[:,0], Dx[:,1], c=Dy)\n",
    "    ax[0,0].set_title('Datos originales')\n",
    "    \n",
    "    mAfinidad, Dyp = agrupamiento_espectral(mSimilitud, K, \n",
    "                                            matriz_afinidad_KNN,\n",
    "                                            matriz_Laplaciana, KNN=knn)\n",
    "    ax[0,1].scatter(Dx[:,0], Dx[:,1], c=Dyp)\n",
    "    ax[0,1].set_title('Laplaciana no normalizada, KNN')\n",
    "    \n",
    "    mAfinidad, Dyp = agrupamiento_espectral(mSimilitud, K, \n",
    "                                            matriz_afinidad_completa,\n",
    "                                            matriz_Laplaciana)\n",
    "    ax[0,2].scatter(Dx[:,0], Dx[:,1], c=Dyp)\n",
    "    ax[0,2].set_title('Laplaciana no normalizada, Completa')\n",
    "    \n",
    "    mAfinidad, Dyp = agrupamiento_espectral(mSimilitud, K, \n",
    "                                            matriz_afinidad_umbral,\n",
    "                                            matriz_Laplaciana_normalizada, umbral=eps)\n",
    "    ax[1,0].scatter(Dx[:,0], Dx[:,1], c=Dyp)\n",
    "    ax[1,0].set_title('Laplaciana normalizada, Umbral')\n",
    "    \n",
    "    mAfinidad, Dyp = agrupamiento_espectral(mSimilitud, K, \n",
    "                                            matriz_afinidad_KNN,\n",
    "                                            matriz_Laplaciana_normalizada, KNN=knn)\n",
    "    ax[1,1].scatter(Dx[:,0], Dx[:,1], c=Dyp)\n",
    "    ax[1,1].set_title('Laplaciana normalizada, KNN')\n",
    "    \n",
    "    mAfinidad, Dyp = agrupamiento_espectral(mSimilitud, K, \n",
    "                                            matriz_afinidad_completa,\n",
    "                                            matriz_Laplaciana_normalizada)\n",
    "    ax[1,2].scatter(Dx[:,0], Dx[:,1], c=Dyp)\n",
    "    ax[1,2].set_title('Laplaciana normalizada, Completa')"
   ]
  },
  {
   "cell_type": "code",
   "execution_count": null,
   "metadata": {},
   "outputs": [],
   "source": [
    "data_file_url = 'https://raw.githubusercontent.com/javier-sevilla/ANS/master/datasets/sinteticos/dataset_inseparable.csv'\n",
    "D = np.array(pd.read_csv(data_file_url,header=0))\n",
    "D = D[ np.random.choice(np.arange(D.shape[0]), D.shape[0], replace=False) ,:]\n",
    "Dx = D[:,0:2]\n",
    "Dy = D[:,2]\n",
    "plot_varios(Dx,Dy,5)"
   ]
  },
  {
   "cell_type": "code",
   "execution_count": null,
   "metadata": {},
   "outputs": [],
   "source": [
    "data_file_url = 'https://raw.githubusercontent.com/javier-sevilla/ANS/master/datasets/sinteticos/dataset_dos_remolinos.csv'\n",
    "D = np.array(pd.read_csv(data_file_url,header=0))\n",
    "D = D[ np.random.choice(np.arange(D.shape[0]), D.shape[0], replace=False) ,:]\n",
    "Dx = D[:,0:2]\n",
    "Dy = D[:,2]\n",
    "plot_varios(Dx,Dy,2,knn=4)"
   ]
  },
  {
   "cell_type": "code",
   "execution_count": null,
   "metadata": {
    "scrolled": false
   },
   "outputs": [],
   "source": [
    "data_file_url = 'https://raw.githubusercontent.com/javier-sevilla/ANS/master/datasets/sinteticos/dataset_cuatro_diferente_medida.csv'\n",
    "D = np.array(pd.read_csv(data_file_url,header=0))\n",
    "D = D[ np.random.choice(np.arange(D.shape[0]), D.shape[0], replace=False) ,:]\n",
    "Dx = D[:,0:2]\n",
    "Dy = D[:,2]\n",
    "plot_varios(Dx,Dy,4)"
   ]
  },
  {
   "cell_type": "code",
   "execution_count": null,
   "metadata": {},
   "outputs": [],
   "source": []
  }
 ],
 "metadata": {
  "kernelspec": {
   "display_name": "Python 3",
   "language": "python",
   "name": "python3"
  },
  "language_info": {
   "codemirror_mode": {
    "name": "ipython",
    "version": 3
   },
   "file_extension": ".py",
   "mimetype": "text/x-python",
   "name": "python",
   "nbconvert_exporter": "python",
   "pygments_lexer": "ipython3",
   "version": "3.7.1"
  }
 },
 "nbformat": 4,
 "nbformat_minor": 2
}
